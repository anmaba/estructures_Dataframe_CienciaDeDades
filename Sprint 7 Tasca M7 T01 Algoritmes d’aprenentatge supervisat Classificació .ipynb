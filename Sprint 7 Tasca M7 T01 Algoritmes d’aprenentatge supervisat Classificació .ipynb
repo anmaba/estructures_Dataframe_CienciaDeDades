{
 "cells": [
  {
   "cell_type": "markdown",
   "id": "2d3c90fb",
   "metadata": {},
   "source": [
    "# Sprint 7, Tasca M7 T01: Algoritmes d’aprenentatge supervisat: Classificació\n",
    "\n",
    "### Importació, ordenació i informació bàsica de les dades\n",
    "\n"
   ]
  },
  {
   "cell_type": "code",
   "execution_count": 1,
   "id": "45690b4b",
   "metadata": {
    "ExecuteTime": {
     "end_time": "2022-08-02T17:02:18.097537Z",
     "start_time": "2022-08-02T17:02:16.047759Z"
    }
   },
   "outputs": [],
   "source": [
    "# Importem les llibreries bàsiques \n",
    "import pandas as pd\n",
    "import numpy as np\n",
    "import matplotlib.pyplot as plt\n",
    "import seaborn as sns\n",
    "import sklearn\n",
    "import warnings"
   ]
  },
  {
   "cell_type": "code",
   "execution_count": 2,
   "id": "37b19680",
   "metadata": {
    "ExecuteTime": {
     "end_time": "2022-08-02T17:02:18.159503Z",
     "start_time": "2022-08-02T17:02:18.099539Z"
    }
   },
   "outputs": [
    {
     "data": {
      "text/html": [
       "<div>\n",
       "<style scoped>\n",
       "    .dataframe tbody tr th:only-of-type {\n",
       "        vertical-align: middle;\n",
       "    }\n",
       "\n",
       "    .dataframe tbody tr th {\n",
       "        vertical-align: top;\n",
       "    }\n",
       "\n",
       "    .dataframe thead th {\n",
       "        text-align: right;\n",
       "    }\n",
       "</style>\n",
       "<table border=\"1\" class=\"dataframe\">\n",
       "  <thead>\n",
       "    <tr style=\"text-align: right;\">\n",
       "      <th></th>\n",
       "      <th>class</th>\n",
       "      <th>alcohol</th>\n",
       "      <th>malic_acid</th>\n",
       "      <th>ash</th>\n",
       "      <th>alcalinity_of_ash</th>\n",
       "      <th>magnesium</th>\n",
       "      <th>total_phenols</th>\n",
       "      <th>flavanoids</th>\n",
       "      <th>nonflavanoids_phenols</th>\n",
       "      <th>proanthocyanins</th>\n",
       "      <th>color_intensity</th>\n",
       "      <th>hue</th>\n",
       "      <th>OD280/OD315_of_diluted_wines</th>\n",
       "      <th>proline</th>\n",
       "    </tr>\n",
       "  </thead>\n",
       "  <tbody>\n",
       "    <tr>\n",
       "      <th>0</th>\n",
       "      <td>1</td>\n",
       "      <td>13.20</td>\n",
       "      <td>1.78</td>\n",
       "      <td>2.14</td>\n",
       "      <td>11.2</td>\n",
       "      <td>100</td>\n",
       "      <td>2.65</td>\n",
       "      <td>2.76</td>\n",
       "      <td>0.26</td>\n",
       "      <td>1.28</td>\n",
       "      <td>4.38</td>\n",
       "      <td>1.05</td>\n",
       "      <td>3.40</td>\n",
       "      <td>1050</td>\n",
       "    </tr>\n",
       "    <tr>\n",
       "      <th>1</th>\n",
       "      <td>1</td>\n",
       "      <td>13.16</td>\n",
       "      <td>2.36</td>\n",
       "      <td>2.67</td>\n",
       "      <td>18.6</td>\n",
       "      <td>101</td>\n",
       "      <td>2.80</td>\n",
       "      <td>3.24</td>\n",
       "      <td>0.30</td>\n",
       "      <td>2.81</td>\n",
       "      <td>5.68</td>\n",
       "      <td>1.03</td>\n",
       "      <td>3.17</td>\n",
       "      <td>1185</td>\n",
       "    </tr>\n",
       "    <tr>\n",
       "      <th>2</th>\n",
       "      <td>1</td>\n",
       "      <td>14.37</td>\n",
       "      <td>1.95</td>\n",
       "      <td>2.50</td>\n",
       "      <td>16.8</td>\n",
       "      <td>113</td>\n",
       "      <td>3.85</td>\n",
       "      <td>3.49</td>\n",
       "      <td>0.24</td>\n",
       "      <td>2.18</td>\n",
       "      <td>7.80</td>\n",
       "      <td>0.86</td>\n",
       "      <td>3.45</td>\n",
       "      <td>1480</td>\n",
       "    </tr>\n",
       "    <tr>\n",
       "      <th>3</th>\n",
       "      <td>1</td>\n",
       "      <td>13.24</td>\n",
       "      <td>2.59</td>\n",
       "      <td>2.87</td>\n",
       "      <td>21.0</td>\n",
       "      <td>118</td>\n",
       "      <td>2.80</td>\n",
       "      <td>2.69</td>\n",
       "      <td>0.39</td>\n",
       "      <td>1.82</td>\n",
       "      <td>4.32</td>\n",
       "      <td>1.04</td>\n",
       "      <td>2.93</td>\n",
       "      <td>735</td>\n",
       "    </tr>\n",
       "    <tr>\n",
       "      <th>4</th>\n",
       "      <td>1</td>\n",
       "      <td>14.20</td>\n",
       "      <td>1.76</td>\n",
       "      <td>2.45</td>\n",
       "      <td>15.2</td>\n",
       "      <td>112</td>\n",
       "      <td>3.27</td>\n",
       "      <td>3.39</td>\n",
       "      <td>0.34</td>\n",
       "      <td>1.97</td>\n",
       "      <td>6.75</td>\n",
       "      <td>1.05</td>\n",
       "      <td>2.85</td>\n",
       "      <td>1450</td>\n",
       "    </tr>\n",
       "    <tr>\n",
       "      <th>...</th>\n",
       "      <td>...</td>\n",
       "      <td>...</td>\n",
       "      <td>...</td>\n",
       "      <td>...</td>\n",
       "      <td>...</td>\n",
       "      <td>...</td>\n",
       "      <td>...</td>\n",
       "      <td>...</td>\n",
       "      <td>...</td>\n",
       "      <td>...</td>\n",
       "      <td>...</td>\n",
       "      <td>...</td>\n",
       "      <td>...</td>\n",
       "      <td>...</td>\n",
       "    </tr>\n",
       "    <tr>\n",
       "      <th>172</th>\n",
       "      <td>3</td>\n",
       "      <td>13.71</td>\n",
       "      <td>5.65</td>\n",
       "      <td>2.45</td>\n",
       "      <td>20.5</td>\n",
       "      <td>95</td>\n",
       "      <td>1.68</td>\n",
       "      <td>0.61</td>\n",
       "      <td>0.52</td>\n",
       "      <td>1.06</td>\n",
       "      <td>7.70</td>\n",
       "      <td>0.64</td>\n",
       "      <td>1.74</td>\n",
       "      <td>740</td>\n",
       "    </tr>\n",
       "    <tr>\n",
       "      <th>173</th>\n",
       "      <td>3</td>\n",
       "      <td>13.40</td>\n",
       "      <td>3.91</td>\n",
       "      <td>2.48</td>\n",
       "      <td>23.0</td>\n",
       "      <td>102</td>\n",
       "      <td>1.80</td>\n",
       "      <td>0.75</td>\n",
       "      <td>0.43</td>\n",
       "      <td>1.41</td>\n",
       "      <td>7.30</td>\n",
       "      <td>0.70</td>\n",
       "      <td>1.56</td>\n",
       "      <td>750</td>\n",
       "    </tr>\n",
       "    <tr>\n",
       "      <th>174</th>\n",
       "      <td>3</td>\n",
       "      <td>13.27</td>\n",
       "      <td>4.28</td>\n",
       "      <td>2.26</td>\n",
       "      <td>20.0</td>\n",
       "      <td>120</td>\n",
       "      <td>1.59</td>\n",
       "      <td>0.69</td>\n",
       "      <td>0.43</td>\n",
       "      <td>1.35</td>\n",
       "      <td>10.20</td>\n",
       "      <td>0.59</td>\n",
       "      <td>1.56</td>\n",
       "      <td>835</td>\n",
       "    </tr>\n",
       "    <tr>\n",
       "      <th>175</th>\n",
       "      <td>3</td>\n",
       "      <td>13.17</td>\n",
       "      <td>2.59</td>\n",
       "      <td>2.37</td>\n",
       "      <td>20.0</td>\n",
       "      <td>120</td>\n",
       "      <td>1.65</td>\n",
       "      <td>0.68</td>\n",
       "      <td>0.53</td>\n",
       "      <td>1.46</td>\n",
       "      <td>9.30</td>\n",
       "      <td>0.60</td>\n",
       "      <td>1.62</td>\n",
       "      <td>840</td>\n",
       "    </tr>\n",
       "    <tr>\n",
       "      <th>176</th>\n",
       "      <td>3</td>\n",
       "      <td>14.13</td>\n",
       "      <td>4.10</td>\n",
       "      <td>2.74</td>\n",
       "      <td>24.5</td>\n",
       "      <td>96</td>\n",
       "      <td>2.05</td>\n",
       "      <td>0.76</td>\n",
       "      <td>0.56</td>\n",
       "      <td>1.35</td>\n",
       "      <td>9.20</td>\n",
       "      <td>0.61</td>\n",
       "      <td>1.60</td>\n",
       "      <td>560</td>\n",
       "    </tr>\n",
       "  </tbody>\n",
       "</table>\n",
       "<p>177 rows × 14 columns</p>\n",
       "</div>"
      ],
      "text/plain": [
       "     class  alcohol  malic_acid   ash  alcalinity_of_ash  magnesium  \\\n",
       "0        1    13.20        1.78  2.14               11.2        100   \n",
       "1        1    13.16        2.36  2.67               18.6        101   \n",
       "2        1    14.37        1.95  2.50               16.8        113   \n",
       "3        1    13.24        2.59  2.87               21.0        118   \n",
       "4        1    14.20        1.76  2.45               15.2        112   \n",
       "..     ...      ...         ...   ...                ...        ...   \n",
       "172      3    13.71        5.65  2.45               20.5         95   \n",
       "173      3    13.40        3.91  2.48               23.0        102   \n",
       "174      3    13.27        4.28  2.26               20.0        120   \n",
       "175      3    13.17        2.59  2.37               20.0        120   \n",
       "176      3    14.13        4.10  2.74               24.5         96   \n",
       "\n",
       "     total_phenols  flavanoids  nonflavanoids_phenols  proanthocyanins  \\\n",
       "0             2.65        2.76                   0.26             1.28   \n",
       "1             2.80        3.24                   0.30             2.81   \n",
       "2             3.85        3.49                   0.24             2.18   \n",
       "3             2.80        2.69                   0.39             1.82   \n",
       "4             3.27        3.39                   0.34             1.97   \n",
       "..             ...         ...                    ...              ...   \n",
       "172           1.68        0.61                   0.52             1.06   \n",
       "173           1.80        0.75                   0.43             1.41   \n",
       "174           1.59        0.69                   0.43             1.35   \n",
       "175           1.65        0.68                   0.53             1.46   \n",
       "176           2.05        0.76                   0.56             1.35   \n",
       "\n",
       "     color_intensity   hue  OD280/OD315_of_diluted_wines  proline  \n",
       "0               4.38  1.05                          3.40     1050  \n",
       "1               5.68  1.03                          3.17     1185  \n",
       "2               7.80  0.86                          3.45     1480  \n",
       "3               4.32  1.04                          2.93      735  \n",
       "4               6.75  1.05                          2.85     1450  \n",
       "..               ...   ...                           ...      ...  \n",
       "172             7.70  0.64                          1.74      740  \n",
       "173             7.30  0.70                          1.56      750  \n",
       "174            10.20  0.59                          1.56      835  \n",
       "175             9.30  0.60                          1.62      840  \n",
       "176             9.20  0.61                          1.60      560  \n",
       "\n",
       "[177 rows x 14 columns]"
      ]
     },
     "metadata": {},
     "output_type": "display_data"
    }
   ],
   "source": [
    "# Importo les dades del cocument txt i els hi poso el títol que els hi correspon a cada columna\n",
    "\n",
    "wines = pd.read_csv(r'C:\\Users\\Anna\\DataScience\\SPRINTS\\SPRINT 7 Classificacio\\wineData.txt', encoding = \"ISO-8859-1\",delimiter=',')\n",
    "wines.columns= [\"class\",\"alcohol\",\"malic_acid\",\"ash\",\"alcalinity_of_ash\",\"magnesium\",\"total_phenols\",\"flavanoids\",\"nonflavanoids_phenols\", \"proanthocyanins\",\"color_intensity\",\"hue\",\"OD280/OD315_of_diluted_wines\",\"proline\"]\n",
    "\n",
    "display(wines)"
   ]
  },
  {
   "cell_type": "code",
   "execution_count": 3,
   "id": "6c0d1949",
   "metadata": {
    "ExecuteTime": {
     "end_time": "2022-08-02T17:02:18.222466Z",
     "start_time": "2022-08-02T17:02:18.161504Z"
    }
   },
   "outputs": [
    {
     "data": {
      "text/html": [
       "<div>\n",
       "<style scoped>\n",
       "    .dataframe tbody tr th:only-of-type {\n",
       "        vertical-align: middle;\n",
       "    }\n",
       "\n",
       "    .dataframe tbody tr th {\n",
       "        vertical-align: top;\n",
       "    }\n",
       "\n",
       "    .dataframe thead th {\n",
       "        text-align: right;\n",
       "    }\n",
       "</style>\n",
       "<table border=\"1\" class=\"dataframe\">\n",
       "  <thead>\n",
       "    <tr style=\"text-align: right;\">\n",
       "      <th></th>\n",
       "      <th>class</th>\n",
       "      <th>alcohol</th>\n",
       "      <th>malic_acid</th>\n",
       "      <th>ash</th>\n",
       "      <th>alcalinity_of_ash</th>\n",
       "      <th>magnesium</th>\n",
       "      <th>total_phenols</th>\n",
       "      <th>flavanoids</th>\n",
       "      <th>nonflavanoids_phenols</th>\n",
       "      <th>proanthocyanins</th>\n",
       "      <th>color_intensity</th>\n",
       "      <th>hue</th>\n",
       "      <th>OD280/OD315_of_diluted_wines</th>\n",
       "      <th>proline</th>\n",
       "    </tr>\n",
       "  </thead>\n",
       "  <tbody>\n",
       "    <tr>\n",
       "      <th>count</th>\n",
       "      <td>177.000000</td>\n",
       "      <td>177.000000</td>\n",
       "      <td>177.000000</td>\n",
       "      <td>177.000000</td>\n",
       "      <td>177.000000</td>\n",
       "      <td>177.000000</td>\n",
       "      <td>177.000000</td>\n",
       "      <td>177.000000</td>\n",
       "      <td>177.000000</td>\n",
       "      <td>177.000000</td>\n",
       "      <td>177.000000</td>\n",
       "      <td>177.000000</td>\n",
       "      <td>177.000000</td>\n",
       "      <td>177.000000</td>\n",
       "    </tr>\n",
       "    <tr>\n",
       "      <th>mean</th>\n",
       "      <td>1.943503</td>\n",
       "      <td>12.993672</td>\n",
       "      <td>2.339887</td>\n",
       "      <td>2.366158</td>\n",
       "      <td>19.516949</td>\n",
       "      <td>99.587571</td>\n",
       "      <td>2.292260</td>\n",
       "      <td>2.023446</td>\n",
       "      <td>0.362316</td>\n",
       "      <td>1.586949</td>\n",
       "      <td>5.054802</td>\n",
       "      <td>0.956983</td>\n",
       "      <td>2.604294</td>\n",
       "      <td>745.096045</td>\n",
       "    </tr>\n",
       "    <tr>\n",
       "      <th>std</th>\n",
       "      <td>0.773991</td>\n",
       "      <td>0.808808</td>\n",
       "      <td>1.119314</td>\n",
       "      <td>0.275080</td>\n",
       "      <td>3.336071</td>\n",
       "      <td>14.174018</td>\n",
       "      <td>0.626465</td>\n",
       "      <td>0.998658</td>\n",
       "      <td>0.124653</td>\n",
       "      <td>0.571545</td>\n",
       "      <td>2.324446</td>\n",
       "      <td>0.229135</td>\n",
       "      <td>0.705103</td>\n",
       "      <td>314.884046</td>\n",
       "    </tr>\n",
       "    <tr>\n",
       "      <th>min</th>\n",
       "      <td>1.000000</td>\n",
       "      <td>11.030000</td>\n",
       "      <td>0.740000</td>\n",
       "      <td>1.360000</td>\n",
       "      <td>10.600000</td>\n",
       "      <td>70.000000</td>\n",
       "      <td>0.980000</td>\n",
       "      <td>0.340000</td>\n",
       "      <td>0.130000</td>\n",
       "      <td>0.410000</td>\n",
       "      <td>1.280000</td>\n",
       "      <td>0.480000</td>\n",
       "      <td>1.270000</td>\n",
       "      <td>278.000000</td>\n",
       "    </tr>\n",
       "    <tr>\n",
       "      <th>25%</th>\n",
       "      <td>1.000000</td>\n",
       "      <td>12.360000</td>\n",
       "      <td>1.600000</td>\n",
       "      <td>2.210000</td>\n",
       "      <td>17.200000</td>\n",
       "      <td>88.000000</td>\n",
       "      <td>1.740000</td>\n",
       "      <td>1.200000</td>\n",
       "      <td>0.270000</td>\n",
       "      <td>1.250000</td>\n",
       "      <td>3.210000</td>\n",
       "      <td>0.780000</td>\n",
       "      <td>1.930000</td>\n",
       "      <td>500.000000</td>\n",
       "    </tr>\n",
       "    <tr>\n",
       "      <th>50%</th>\n",
       "      <td>2.000000</td>\n",
       "      <td>13.050000</td>\n",
       "      <td>1.870000</td>\n",
       "      <td>2.360000</td>\n",
       "      <td>19.500000</td>\n",
       "      <td>98.000000</td>\n",
       "      <td>2.350000</td>\n",
       "      <td>2.130000</td>\n",
       "      <td>0.340000</td>\n",
       "      <td>1.550000</td>\n",
       "      <td>4.680000</td>\n",
       "      <td>0.960000</td>\n",
       "      <td>2.780000</td>\n",
       "      <td>672.000000</td>\n",
       "    </tr>\n",
       "    <tr>\n",
       "      <th>75%</th>\n",
       "      <td>3.000000</td>\n",
       "      <td>13.670000</td>\n",
       "      <td>3.100000</td>\n",
       "      <td>2.560000</td>\n",
       "      <td>21.500000</td>\n",
       "      <td>107.000000</td>\n",
       "      <td>2.800000</td>\n",
       "      <td>2.860000</td>\n",
       "      <td>0.440000</td>\n",
       "      <td>1.950000</td>\n",
       "      <td>6.200000</td>\n",
       "      <td>1.120000</td>\n",
       "      <td>3.170000</td>\n",
       "      <td>985.000000</td>\n",
       "    </tr>\n",
       "    <tr>\n",
       "      <th>max</th>\n",
       "      <td>3.000000</td>\n",
       "      <td>14.830000</td>\n",
       "      <td>5.800000</td>\n",
       "      <td>3.230000</td>\n",
       "      <td>30.000000</td>\n",
       "      <td>162.000000</td>\n",
       "      <td>3.880000</td>\n",
       "      <td>5.080000</td>\n",
       "      <td>0.660000</td>\n",
       "      <td>3.580000</td>\n",
       "      <td>13.000000</td>\n",
       "      <td>1.710000</td>\n",
       "      <td>4.000000</td>\n",
       "      <td>1680.000000</td>\n",
       "    </tr>\n",
       "  </tbody>\n",
       "</table>\n",
       "</div>"
      ],
      "text/plain": [
       "            class     alcohol  malic_acid         ash  alcalinity_of_ash  \\\n",
       "count  177.000000  177.000000  177.000000  177.000000         177.000000   \n",
       "mean     1.943503   12.993672    2.339887    2.366158          19.516949   \n",
       "std      0.773991    0.808808    1.119314    0.275080           3.336071   \n",
       "min      1.000000   11.030000    0.740000    1.360000          10.600000   \n",
       "25%      1.000000   12.360000    1.600000    2.210000          17.200000   \n",
       "50%      2.000000   13.050000    1.870000    2.360000          19.500000   \n",
       "75%      3.000000   13.670000    3.100000    2.560000          21.500000   \n",
       "max      3.000000   14.830000    5.800000    3.230000          30.000000   \n",
       "\n",
       "        magnesium  total_phenols  flavanoids  nonflavanoids_phenols  \\\n",
       "count  177.000000     177.000000  177.000000             177.000000   \n",
       "mean    99.587571       2.292260    2.023446               0.362316   \n",
       "std     14.174018       0.626465    0.998658               0.124653   \n",
       "min     70.000000       0.980000    0.340000               0.130000   \n",
       "25%     88.000000       1.740000    1.200000               0.270000   \n",
       "50%     98.000000       2.350000    2.130000               0.340000   \n",
       "75%    107.000000       2.800000    2.860000               0.440000   \n",
       "max    162.000000       3.880000    5.080000               0.660000   \n",
       "\n",
       "       proanthocyanins  color_intensity         hue  \\\n",
       "count       177.000000       177.000000  177.000000   \n",
       "mean          1.586949         5.054802    0.956983   \n",
       "std           0.571545         2.324446    0.229135   \n",
       "min           0.410000         1.280000    0.480000   \n",
       "25%           1.250000         3.210000    0.780000   \n",
       "50%           1.550000         4.680000    0.960000   \n",
       "75%           1.950000         6.200000    1.120000   \n",
       "max           3.580000        13.000000    1.710000   \n",
       "\n",
       "       OD280/OD315_of_diluted_wines      proline  \n",
       "count                    177.000000   177.000000  \n",
       "mean                       2.604294   745.096045  \n",
       "std                        0.705103   314.884046  \n",
       "min                        1.270000   278.000000  \n",
       "25%                        1.930000   500.000000  \n",
       "50%                        2.780000   672.000000  \n",
       "75%                        3.170000   985.000000  \n",
       "max                        4.000000  1680.000000  "
      ]
     },
     "execution_count": 3,
     "metadata": {},
     "output_type": "execute_result"
    }
   ],
   "source": [
    "wines.describe()"
   ]
  },
  {
   "cell_type": "code",
   "execution_count": 4,
   "id": "a2c1abb4",
   "metadata": {
    "ExecuteTime": {
     "end_time": "2022-08-02T17:02:18.253445Z",
     "start_time": "2022-08-02T17:02:18.225463Z"
    }
   },
   "outputs": [
    {
     "name": "stdout",
     "output_type": "stream",
     "text": [
      "<class 'pandas.core.frame.DataFrame'>\n",
      "RangeIndex: 177 entries, 0 to 176\n",
      "Data columns (total 14 columns):\n",
      " #   Column                        Non-Null Count  Dtype  \n",
      "---  ------                        --------------  -----  \n",
      " 0   class                         177 non-null    int64  \n",
      " 1   alcohol                       177 non-null    float64\n",
      " 2   malic_acid                    177 non-null    float64\n",
      " 3   ash                           177 non-null    float64\n",
      " 4   alcalinity_of_ash             177 non-null    float64\n",
      " 5   magnesium                     177 non-null    int64  \n",
      " 6   total_phenols                 177 non-null    float64\n",
      " 7   flavanoids                    177 non-null    float64\n",
      " 8   nonflavanoids_phenols         177 non-null    float64\n",
      " 9   proanthocyanins               177 non-null    float64\n",
      " 10  color_intensity               177 non-null    float64\n",
      " 11  hue                           177 non-null    float64\n",
      " 12  OD280/OD315_of_diluted_wines  177 non-null    float64\n",
      " 13  proline                       177 non-null    int64  \n",
      "dtypes: float64(11), int64(3)\n",
      "memory usage: 19.5 KB\n"
     ]
    }
   ],
   "source": [
    "wines.info()"
   ]
  },
  {
   "cell_type": "code",
   "execution_count": 5,
   "id": "3c54e74d",
   "metadata": {
    "ExecuteTime": {
     "end_time": "2022-08-02T17:02:18.269436Z",
     "start_time": "2022-08-02T17:02:18.256444Z"
    }
   },
   "outputs": [
    {
     "data": {
      "text/plain": [
       "(177, 14)"
      ]
     },
     "execution_count": 5,
     "metadata": {},
     "output_type": "execute_result"
    }
   ],
   "source": [
    "wines.shape"
   ]
  },
  {
   "cell_type": "code",
   "execution_count": 6,
   "id": "e540d60b",
   "metadata": {
    "ExecuteTime": {
     "end_time": "2022-08-02T17:02:18.285428Z",
     "start_time": "2022-08-02T17:02:18.272435Z"
    }
   },
   "outputs": [
    {
     "data": {
      "text/plain": [
       "Index(['class', 'alcohol', 'malic_acid', 'ash', 'alcalinity_of_ash',\n",
       "       'magnesium', 'total_phenols', 'flavanoids', 'nonflavanoids_phenols',\n",
       "       'proanthocyanins', 'color_intensity', 'hue',\n",
       "       'OD280/OD315_of_diluted_wines', 'proline'],\n",
       "      dtype='object')"
      ]
     },
     "execution_count": 6,
     "metadata": {},
     "output_type": "execute_result"
    }
   ],
   "source": [
    "wines.columns"
   ]
  },
  {
   "cell_type": "code",
   "execution_count": 37,
   "id": "c435761d",
   "metadata": {
    "ExecuteTime": {
     "end_time": "2022-08-02T17:05:53.445991Z",
     "start_time": "2022-08-02T17:05:51.540160Z"
    }
   },
   "outputs": [
    {
     "data": {
      "image/png": "[encoded data removed]",
      "text/plain": [
       "<Figure size 720x720 with 16 Axes>"
      ]
     },
     "metadata": {
      "needs_background": "light"
     },
     "output_type": "display_data"
    }
   ],
   "source": [
    "wines.hist()\n",
    "plt.rcParams['figure.figsize'] = [10, 10]\n",
    "plt.show()"
   ]
  },
  {
   "cell_type": "markdown",
   "id": "8a164867",
   "metadata": {},
   "source": [
    "## Exercici 1\n",
    "Crea almenys dos models de classificació diferents per intentar predir el millor les classes de l'arxiu adjunt."
   ]
  },
  {
   "cell_type": "markdown",
   "id": "4565b26c",
   "metadata": {},
   "source": [
    "ALGORITME K-NN (K - NEAREST NEIGHBORS)"
   ]
  },
  {
   "cell_type": "code",
   "execution_count": 154,
   "id": "817a671a",
   "metadata": {
    "ExecuteTime": {
     "end_time": "2022-08-05T12:59:04.383356Z",
     "start_time": "2022-08-05T12:59:04.373361Z"
    }
   },
   "outputs": [],
   "source": [
    "# Dividim el dataset en X i y\n",
    "\n",
    "X_features = ['alcohol', 'malic_acid', 'ash', 'alcalinity_of_ash',\n",
    "       'magnesium', 'total_phenols', 'flavanoids', 'nonflavanoids_phenols',\n",
    "       'proanthocyanins', 'color_intensity', 'hue',\n",
    "       'OD280/OD315_of_diluted_wines', 'proline']\n",
    "X = wines[X_features]\n",
    "y = wines[\"class\"]\n"
   ]
  },
  {
   "cell_type": "code",
   "execution_count": 202,
   "id": "bc8697e8",
   "metadata": {
    "ExecuteTime": {
     "end_time": "2022-08-05T13:11:52.390148Z",
     "start_time": "2022-08-05T13:11:52.376158Z"
    }
   },
   "outputs": [],
   "source": [
    "# Dividim en train i test\n",
    "from sklearn.model_selection import train_test_split\n",
    "X_train, X_test, y_train, y_test = train_test_split(X, y, test_size=0.30, random_state=0)"
   ]
  },
  {
   "cell_type": "code",
   "execution_count": 203,
   "id": "cb733687",
   "metadata": {
    "ExecuteTime": {
     "end_time": "2022-08-05T13:11:53.056685Z",
     "start_time": "2022-08-05T13:11:53.029702Z"
    }
   },
   "outputs": [],
   "source": [
    "# Normalitzem (scaler) el rang de totes les característiques de manera que cada característica contribueixi de forma més proporcional a la distància final\n",
    "from sklearn.preprocessing import StandardScaler\n",
    "scaler = StandardScaler()\n",
    "scaler.fit(X_train)\n",
    "\n",
    "X_train = scaler.transform(X_train)\n",
    "X_test = scaler.transform(X_test)"
   ]
  },
  {
   "cell_type": "code",
   "execution_count": 204,
   "id": "c0017d1d",
   "metadata": {
    "ExecuteTime": {
     "end_time": "2022-08-05T13:11:54.289258Z",
     "start_time": "2022-08-05T13:11:54.271270Z"
    }
   },
   "outputs": [
    {
     "data": {
      "text/html": [
       "<style>#sk-container-id-19 {color: black;background-color: white;}#sk-container-id-19 pre{padding: 0;}#sk-container-id-19 div.sk-toggleable {background-color: white;}#sk-container-id-19 label.sk-toggleable__label {cursor: pointer;display: block;width: 100%;margin-bottom: 0;padding: 0.3em;box-sizing: border-box;text-align: center;}#sk-container-id-19 label.sk-toggleable__label-arrow:before {content: \"▸\";float: left;margin-right: 0.25em;color: #696969;}#sk-container-id-19 label.sk-toggleable__label-arrow:hover:before {color: black;}#sk-container-id-19 div.sk-estimator:hover label.sk-toggleable__label-arrow:before {color: black;}#sk-container-id-19 div.sk-toggleable__content {max-height: 0;max-width: 0;overflow: hidden;text-align: left;background-color: #f0f8ff;}#sk-container-id-19 div.sk-toggleable__content pre {margin: 0.2em;color: black;border-radius: 0.25em;background-color: #f0f8ff;}#sk-container-id-19 input.sk-toggleable__control:checked~div.sk-toggleable__content {max-height: 200px;max-width: 100%;overflow: auto;}#sk-container-id-19 input.sk-toggleable__control:checked~label.sk-toggleable__label-arrow:before {content: \"▾\";}#sk-container-id-19 div.sk-estimator input.sk-toggleable__control:checked~label.sk-toggleable__label {background-color: #d4ebff;}#sk-container-id-19 div.sk-label input.sk-toggleable__control:checked~label.sk-toggleable__label {background-color: #d4ebff;}#sk-container-id-19 input.sk-hidden--visually {border: 0;clip: rect(1px 1px 1px 1px);clip: rect(1px, 1px, 1px, 1px);height: 1px;margin: -1px;overflow: hidden;padding: 0;position: absolute;width: 1px;}#sk-container-id-19 div.sk-estimator {font-family: monospace;background-color: #f0f8ff;border: 1px dotted black;border-radius: 0.25em;box-sizing: border-box;margin-bottom: 0.5em;}#sk-container-id-19 div.sk-estimator:hover {background-color: #d4ebff;}#sk-container-id-19 div.sk-parallel-item::after {content: \"\";width: 100%;border-bottom: 1px solid gray;flex-grow: 1;}#sk-container-id-19 div.sk-label:hover label.sk-toggleable__label {background-color: #d4ebff;}#sk-container-id-19 div.sk-serial::before {content: \"\";position: absolute;border-left: 1px solid gray;box-sizing: border-box;top: 0;bottom: 0;left: 50%;z-index: 0;}#sk-container-id-19 div.sk-serial {display: flex;flex-direction: column;align-items: center;background-color: white;padding-right: 0.2em;padding-left: 0.2em;position: relative;}#sk-container-id-19 div.sk-item {position: relative;z-index: 1;}#sk-container-id-19 div.sk-parallel {display: flex;align-items: stretch;justify-content: center;background-color: white;position: relative;}#sk-container-id-19 div.sk-item::before, #sk-container-id-19 div.sk-parallel-item::before {content: \"\";position: absolute;border-left: 1px solid gray;box-sizing: border-box;top: 0;bottom: 0;left: 50%;z-index: -1;}#sk-container-id-19 div.sk-parallel-item {display: flex;flex-direction: column;z-index: 1;position: relative;background-color: white;}#sk-container-id-19 div.sk-parallel-item:first-child::after {align-self: flex-end;width: 50%;}#sk-container-id-19 div.sk-parallel-item:last-child::after {align-self: flex-start;width: 50%;}#sk-container-id-19 div.sk-parallel-item:only-child::after {width: 0;}#sk-container-id-19 div.sk-dashed-wrapped {border: 1px dashed gray;margin: 0 0.4em 0.5em 0.4em;box-sizing: border-box;padding-bottom: 0.4em;background-color: white;}#sk-container-id-19 div.sk-label label {font-family: monospace;font-weight: bold;display: inline-block;line-height: 1.2em;}#sk-container-id-19 div.sk-label-container {text-align: center;}#sk-container-id-19 div.sk-container {/* jupyter's `normalize.less` sets `[hidden] { display: none; }` but bootstrap.min.css set `[hidden] { display: none !important; }` so we also need the `!important` here to be able to override the default hidden behavior on the sphinx rendered scikit-learn.org. See: https://github.com/scikit-learn/scikit-learn/issues/21755 */display: inline-block !important;position: relative;}#sk-container-id-19 div.sk-text-repr-fallback {display: none;}</style><div id=\"sk-container-id-19\" class=\"sk-top-container\"><div class=\"sk-text-repr-fallback\"><pre>KNeighborsClassifier()</pre><b>In a Jupyter environment, please rerun this cell to show the HTML representation or trust the notebook. <br />On GitHub, the HTML representation is unable to render, please try loading this page with nbviewer.org.</b></div><div class=\"sk-container\" hidden><div class=\"sk-item\"><div class=\"sk-estimator sk-toggleable\"><input class=\"sk-toggleable__control sk-hidden--visually\" id=\"sk-estimator-id-19\" type=\"checkbox\" checked><label for=\"sk-estimator-id-19\" class=\"sk-toggleable__label sk-toggleable__label-arrow\">KNeighborsClassifier</label><div class=\"sk-toggleable__content\"><pre>KNeighborsClassifier()</pre></div></div></div></div></div>"
      ],
      "text/plain": [
       "KNeighborsClassifier()"
      ]
     },
     "execution_count": 204,
     "metadata": {},
     "output_type": "execute_result"
    }
   ],
   "source": [
    "# Importem la llibreria de classificació de KNN i diem que volem que es faci la classificació amb k=5 (és el valor que es sol utilitzar, és la quantitat de valors que ha de tenir més a prop alhora de classificar)\n",
    "from sklearn.neighbors import KNeighborsClassifier\n",
    "classificacio_knn = KNeighborsClassifier(n_neighbors=5)\n",
    "classificacio_knn.fit(X_train, y_train)"
   ]
  },
  {
   "cell_type": "code",
   "execution_count": 205,
   "id": "c14b2483",
   "metadata": {
    "ExecuteTime": {
     "end_time": "2022-08-05T13:11:54.921513Z",
     "start_time": "2022-08-05T13:11:54.903524Z"
    }
   },
   "outputs": [],
   "source": [
    "# Fem la predicció\n",
    "y_pred = classificacio_knn.predict(X_test)"
   ]
  },
  {
   "cell_type": "code",
   "execution_count": 206,
   "id": "f80c707a",
   "metadata": {
    "ExecuteTime": {
     "end_time": "2022-08-05T13:11:55.814848Z",
     "start_time": "2022-08-05T13:11:55.792859Z"
    }
   },
   "outputs": [
    {
     "name": "stdout",
     "output_type": "stream",
     "text": [
      "[[19  0  0]\n",
      " [ 0 20  1]\n",
      " [ 0  0 14]]\n",
      "              precision    recall  f1-score   support\n",
      "\n",
      "           1       1.00      1.00      1.00        19\n",
      "           2       1.00      0.95      0.98        21\n",
      "           3       0.93      1.00      0.97        14\n",
      "\n",
      "    accuracy                           0.98        54\n",
      "   macro avg       0.98      0.98      0.98        54\n",
      "weighted avg       0.98      0.98      0.98        54\n",
      "\n"
     ]
    }
   ],
   "source": [
    "# Evaluació de l'algoritme\n",
    "from sklearn.metrics import classification_report, confusion_matrix\n",
    "print(confusion_matrix(y_test, y_pred))\n",
    "print(classification_report(y_test, y_pred))"
   ]
  },
  {
   "cell_type": "code",
   "execution_count": 207,
   "id": "e05b191f",
   "metadata": {
    "ExecuteTime": {
     "end_time": "2022-08-05T13:11:58.828692Z",
     "start_time": "2022-08-05T13:11:58.805705Z"
    }
   },
   "outputs": [
    {
     "name": "stdout",
     "output_type": "stream",
     "text": [
      "Precisió del K-NN en la part d'entrenament: 0.97\n",
      "Precisió del K-NN en la part de test: 0.98\n"
     ]
    }
   ],
   "source": [
    "print(\"Precisió del K-NN en la part d'entrenament: {:.2f}\"\n",
    "     .format(classificacio_knn.score(X_train, y_train)))\n",
    "print(\"Precisió del K-NN en la part de test: {:.2f}\"\n",
    "     .format(classificacio_knn.score(X_test, y_test)))"
   ]
  },
  {
   "cell_type": "code",
   "execution_count": 208,
   "id": "ef0bd604",
   "metadata": {
    "ExecuteTime": {
     "end_time": "2022-08-05T13:11:59.821584Z",
     "start_time": "2022-08-05T13:11:59.613383Z"
    }
   },
   "outputs": [],
   "source": [
    "# Comparació de la taxa d'error amb el K-Value\n",
    "error = []\n",
    "\n",
    "for i in range(1, 40):\n",
    "    knn = KNeighborsClassifier(n_neighbors=i)\n",
    "    knn.fit(X_train, y_train)\n",
    "    pred_i = knn.predict(X_test)\n",
    "    error.append(np.mean(pred_i != y_test))"
   ]
  },
  {
   "cell_type": "code",
   "execution_count": 209,
   "id": "ccbf253b",
   "metadata": {
    "ExecuteTime": {
     "end_time": "2022-08-05T13:12:01.336189Z",
     "start_time": "2022-08-05T13:12:01.112327Z"
    }
   },
   "outputs": [
    {
     "data": {
      "text/plain": [
       "Text(0, 0.5, 'Error mitjà')"
      ]
     },
     "execution_count": 209,
     "metadata": {},
     "output_type": "execute_result"
    },
    {
     "data": {
      "image/png": "[encoded data removed]",
      "text/plain": [
       "<Figure size 864x432 with 1 Axes>"
      ]
     },
     "metadata": {
      "needs_background": "light"
     },
     "output_type": "display_data"
    }
   ],
   "source": [
    "plt.figure(figsize=(12, 6))\n",
    "plt.plot(range(1, 40), error, color='red', linestyle='dashed', marker='o',\n",
    "         markerfacecolor='blue', markersize=10)\n",
    "plt.title(\"Percentatge d'error del K-Value\")\n",
    "plt.xlabel('K Value')\n",
    "plt.ylabel('Error mitjà')"
   ]
  },
  {
   "cell_type": "markdown",
   "id": "f53eb4bf",
   "metadata": {},
   "source": [
    "ALGORITME SVM (Support Vector Machines)"
   ]
  },
  {
   "cell_type": "code",
   "execution_count": 168,
   "id": "744a0c93",
   "metadata": {
    "ExecuteTime": {
     "end_time": "2022-08-05T13:01:19.008500Z",
     "start_time": "2022-08-05T13:01:18.986515Z"
    }
   },
   "outputs": [],
   "source": [
    "X_features = ['alcohol', 'malic_acid', 'ash', 'alcalinity_of_ash',\n",
    "       'magnesium', 'total_phenols', 'flavanoids', 'nonflavanoids_phenols',\n",
    "       'proanthocyanins', 'color_intensity', 'hue',\n",
    "       'OD280/OD315_of_diluted_wines', 'proline']\n",
    "X = wines[X_features]\n",
    "y = wines[\"class\"]\n",
    "\n",
    "data_dmatrix = xgb.DMatrix(data=X,label=y)"
   ]
  },
  {
   "cell_type": "code",
   "execution_count": 210,
   "id": "b7eea80f",
   "metadata": {
    "ExecuteTime": {
     "end_time": "2022-08-05T13:12:25.411549Z",
     "start_time": "2022-08-05T13:12:25.401554Z"
    }
   },
   "outputs": [],
   "source": [
    "X_train, X_test, y_train, y_test = train_test_split(X, y, test_size=0.20, random_state=0)"
   ]
  },
  {
   "cell_type": "code",
   "execution_count": 211,
   "id": "66cdc03f",
   "metadata": {
    "ExecuteTime": {
     "end_time": "2022-08-05T13:12:26.311639Z",
     "start_time": "2022-08-05T13:12:26.088772Z"
    }
   },
   "outputs": [
    {
     "data": {
      "text/html": [
       "<style>#sk-container-id-20 {color: black;background-color: white;}#sk-container-id-20 pre{padding: 0;}#sk-container-id-20 div.sk-toggleable {background-color: white;}#sk-container-id-20 label.sk-toggleable__label {cursor: pointer;display: block;width: 100%;margin-bottom: 0;padding: 0.3em;box-sizing: border-box;text-align: center;}#sk-container-id-20 label.sk-toggleable__label-arrow:before {content: \"▸\";float: left;margin-right: 0.25em;color: #696969;}#sk-container-id-20 label.sk-toggleable__label-arrow:hover:before {color: black;}#sk-container-id-20 div.sk-estimator:hover label.sk-toggleable__label-arrow:before {color: black;}#sk-container-id-20 div.sk-toggleable__content {max-height: 0;max-width: 0;overflow: hidden;text-align: left;background-color: #f0f8ff;}#sk-container-id-20 div.sk-toggleable__content pre {margin: 0.2em;color: black;border-radius: 0.25em;background-color: #f0f8ff;}#sk-container-id-20 input.sk-toggleable__control:checked~div.sk-toggleable__content {max-height: 200px;max-width: 100%;overflow: auto;}#sk-container-id-20 input.sk-toggleable__control:checked~label.sk-toggleable__label-arrow:before {content: \"▾\";}#sk-container-id-20 div.sk-estimator input.sk-toggleable__control:checked~label.sk-toggleable__label {background-color: #d4ebff;}#sk-container-id-20 div.sk-label input.sk-toggleable__control:checked~label.sk-toggleable__label {background-color: #d4ebff;}#sk-container-id-20 input.sk-hidden--visually {border: 0;clip: rect(1px 1px 1px 1px);clip: rect(1px, 1px, 1px, 1px);height: 1px;margin: -1px;overflow: hidden;padding: 0;position: absolute;width: 1px;}#sk-container-id-20 div.sk-estimator {font-family: monospace;background-color: #f0f8ff;border: 1px dotted black;border-radius: 0.25em;box-sizing: border-box;margin-bottom: 0.5em;}#sk-container-id-20 div.sk-estimator:hover {background-color: #d4ebff;}#sk-container-id-20 div.sk-parallel-item::after {content: \"\";width: 100%;border-bottom: 1px solid gray;flex-grow: 1;}#sk-container-id-20 div.sk-label:hover label.sk-toggleable__label {background-color: #d4ebff;}#sk-container-id-20 div.sk-serial::before {content: \"\";position: absolute;border-left: 1px solid gray;box-sizing: border-box;top: 0;bottom: 0;left: 50%;z-index: 0;}#sk-container-id-20 div.sk-serial {display: flex;flex-direction: column;align-items: center;background-color: white;padding-right: 0.2em;padding-left: 0.2em;position: relative;}#sk-container-id-20 div.sk-item {position: relative;z-index: 1;}#sk-container-id-20 div.sk-parallel {display: flex;align-items: stretch;justify-content: center;background-color: white;position: relative;}#sk-container-id-20 div.sk-item::before, #sk-container-id-20 div.sk-parallel-item::before {content: \"\";position: absolute;border-left: 1px solid gray;box-sizing: border-box;top: 0;bottom: 0;left: 50%;z-index: -1;}#sk-container-id-20 div.sk-parallel-item {display: flex;flex-direction: column;z-index: 1;position: relative;background-color: white;}#sk-container-id-20 div.sk-parallel-item:first-child::after {align-self: flex-end;width: 50%;}#sk-container-id-20 div.sk-parallel-item:last-child::after {align-self: flex-start;width: 50%;}#sk-container-id-20 div.sk-parallel-item:only-child::after {width: 0;}#sk-container-id-20 div.sk-dashed-wrapped {border: 1px dashed gray;margin: 0 0.4em 0.5em 0.4em;box-sizing: border-box;padding-bottom: 0.4em;background-color: white;}#sk-container-id-20 div.sk-label label {font-family: monospace;font-weight: bold;display: inline-block;line-height: 1.2em;}#sk-container-id-20 div.sk-label-container {text-align: center;}#sk-container-id-20 div.sk-container {/* jupyter's `normalize.less` sets `[hidden] { display: none; }` but bootstrap.min.css set `[hidden] { display: none !important; }` so we also need the `!important` here to be able to override the default hidden behavior on the sphinx rendered scikit-learn.org. See: https://github.com/scikit-learn/scikit-learn/issues/21755 */display: inline-block !important;position: relative;}#sk-container-id-20 div.sk-text-repr-fallback {display: none;}</style><div id=\"sk-container-id-20\" class=\"sk-top-container\"><div class=\"sk-text-repr-fallback\"><pre>SVC(kernel=&#x27;linear&#x27;)</pre><b>In a Jupyter environment, please rerun this cell to show the HTML representation or trust the notebook. <br />On GitHub, the HTML representation is unable to render, please try loading this page with nbviewer.org.</b></div><div class=\"sk-container\" hidden><div class=\"sk-item\"><div class=\"sk-estimator sk-toggleable\"><input class=\"sk-toggleable__control sk-hidden--visually\" id=\"sk-estimator-id-20\" type=\"checkbox\" checked><label for=\"sk-estimator-id-20\" class=\"sk-toggleable__label sk-toggleable__label-arrow\">SVC</label><div class=\"sk-toggleable__content\"><pre>SVC(kernel=&#x27;linear&#x27;)</pre></div></div></div></div></div>"
      ],
      "text/plain": [
       "SVC(kernel='linear')"
      ]
     },
     "execution_count": 211,
     "metadata": {},
     "output_type": "execute_result"
    }
   ],
   "source": [
    "#Aprofitem el train i test anterior, i la divisió per grups anterior i cridem a la llibreria necessària\n",
    "from sklearn import svm\n",
    "\n",
    "# I creem l'algoritme classificador\n",
    "classificacio_sve = svm.SVC(kernel=\"linear\")\n",
    "classificacio_sve.fit(X_train, y_train)"
   ]
  },
  {
   "cell_type": "code",
   "execution_count": 212,
   "id": "a4c69278",
   "metadata": {
    "ExecuteTime": {
     "end_time": "2022-08-05T13:12:27.054666Z",
     "start_time": "2022-08-05T13:12:27.047669Z"
    }
   },
   "outputs": [],
   "source": [
    "# Fem la predicció\n",
    "y_pred = classificacio_sve.predict(X_test)"
   ]
  },
  {
   "cell_type": "code",
   "execution_count": 213,
   "id": "68aded7a",
   "metadata": {
    "ExecuteTime": {
     "end_time": "2022-08-05T13:12:27.920211Z",
     "start_time": "2022-08-05T13:12:27.905221Z"
    }
   },
   "outputs": [
    {
     "name": "stdout",
     "output_type": "stream",
     "text": [
      "La classificació és correcta un 97.22222222222221  de vegades\n"
     ]
    }
   ],
   "source": [
    "# Evaluem l'algoritme, és a dir, volem saber en quin percentatge la classificació és correcta\n",
    "from sklearn import metrics\n",
    "\n",
    "print(\"La classificació és correcta un\", (metrics.accuracy_score(y_test, y_pred))*100, \" de vegades\")"
   ]
  },
  {
   "cell_type": "code",
   "execution_count": 214,
   "id": "d2172d39",
   "metadata": {
    "ExecuteTime": {
     "end_time": "2022-08-05T13:12:28.741205Z",
     "start_time": "2022-08-05T13:12:28.728213Z"
    }
   },
   "outputs": [
    {
     "name": "stdout",
     "output_type": "stream",
     "text": [
      "Precissió: 97.22222222222221\n",
      "Recuperació: 97.22222222222221\n"
     ]
    }
   ],
   "source": [
    "# També podem avaluar la precisió i la recuperació del model\n",
    "\n",
    "print(\"Precissió:\", (metrics.precision_score(y_test,y_pred,average=\"micro\"))*100)\n",
    "print(\"Recuperació:\", (metrics.recall_score(y_test,y_pred,average=\"micro\"))*100)\n",
    "\n",
    "# He provat de fer-ho amb kernel linear i poly i totes tres avaluacions em surten igual sempre, no sé per què"
   ]
  },
  {
   "cell_type": "markdown",
   "id": "21e1d220",
   "metadata": {},
   "source": [
    "ALGORITME XGBoost"
   ]
  },
  {
   "cell_type": "code",
   "execution_count": 174,
   "id": "4e234d8b",
   "metadata": {
    "ExecuteTime": {
     "end_time": "2022-08-05T13:01:45.106573Z",
     "start_time": "2022-08-05T13:01:45.095578Z"
    }
   },
   "outputs": [],
   "source": [
    "# Importem la llibreria\n",
    "import xgboost as xgb\n",
    "from sklearn.metrics import mean_squared_error"
   ]
  },
  {
   "cell_type": "code",
   "execution_count": 175,
   "id": "bf96b176",
   "metadata": {
    "ExecuteTime": {
     "end_time": "2022-08-05T13:01:45.853113Z",
     "start_time": "2022-08-05T13:01:45.840124Z"
    }
   },
   "outputs": [],
   "source": [
    "# Utilitzo la separació de dades X,y feta anteriorment i converteixo el dataset en una estructurda de dades optimitzada anomenada Dmatrix\n",
    "X_features = ['alcohol', 'malic_acid', 'ash', 'alcalinity_of_ash',\n",
    "       'magnesium', 'total_phenols', 'flavanoids', 'nonflavanoids_phenols',\n",
    "       'proanthocyanins', 'color_intensity', 'hue',\n",
    "       'OD280/OD315_of_diluted_wines', 'proline']\n",
    "X = wines[X_features]\n",
    "y = wines[\"class\"]\n",
    "\n",
    "data_dmatrix = xgb.DMatrix(data=X,label=y)"
   ]
  },
  {
   "cell_type": "code",
   "execution_count": 215,
   "id": "ab6bea1b",
   "metadata": {
    "ExecuteTime": {
     "end_time": "2022-08-05T13:12:47.366926Z",
     "start_time": "2022-08-05T13:12:47.358931Z"
    }
   },
   "outputs": [],
   "source": [
    "# Creo un train i test nou\n",
    "# Dividim en train i test\n",
    "\n",
    "X_train, X_test, y_train, y_test = train_test_split(X, y, test_size=0.20, random_state=0)"
   ]
  },
  {
   "cell_type": "code",
   "execution_count": 216,
   "id": "a693259b",
   "metadata": {
    "ExecuteTime": {
     "end_time": "2022-08-05T13:12:47.969620Z",
     "start_time": "2022-08-05T13:12:47.956630Z"
    }
   },
   "outputs": [],
   "source": [
    "# Creo una instancia d'un objecte regressor XGBoost cridant a la classe XGBRegressor() des de la biblioteca XGBoost amb uns hiperparàmetres concrets\n",
    "xgb_regressor = xgb.XGBRegressor(objective ='reg:linear', colsample_bytree = 0.3, learning_rate = 0.1,\n",
    "                max_depth = 5, alpha = 10, n_estimators = 10, verbosity = 0)"
   ]
  },
  {
   "cell_type": "code",
   "execution_count": 217,
   "id": "7aac7c28",
   "metadata": {
    "ExecuteTime": {
     "end_time": "2022-08-05T13:12:48.616038Z",
     "start_time": "2022-08-05T13:12:48.557077Z"
    }
   },
   "outputs": [
    {
     "data": {
      "text/html": [
       "<style>#sk-container-id-21 {color: black;background-color: white;}#sk-container-id-21 pre{padding: 0;}#sk-container-id-21 div.sk-toggleable {background-color: white;}#sk-container-id-21 label.sk-toggleable__label {cursor: pointer;display: block;width: 100%;margin-bottom: 0;padding: 0.3em;box-sizing: border-box;text-align: center;}#sk-container-id-21 label.sk-toggleable__label-arrow:before {content: \"▸\";float: left;margin-right: 0.25em;color: #696969;}#sk-container-id-21 label.sk-toggleable__label-arrow:hover:before {color: black;}#sk-container-id-21 div.sk-estimator:hover label.sk-toggleable__label-arrow:before {color: black;}#sk-container-id-21 div.sk-toggleable__content {max-height: 0;max-width: 0;overflow: hidden;text-align: left;background-color: #f0f8ff;}#sk-container-id-21 div.sk-toggleable__content pre {margin: 0.2em;color: black;border-radius: 0.25em;background-color: #f0f8ff;}#sk-container-id-21 input.sk-toggleable__control:checked~div.sk-toggleable__content {max-height: 200px;max-width: 100%;overflow: auto;}#sk-container-id-21 input.sk-toggleable__control:checked~label.sk-toggleable__label-arrow:before {content: \"▾\";}#sk-container-id-21 div.sk-estimator input.sk-toggleable__control:checked~label.sk-toggleable__label {background-color: #d4ebff;}#sk-container-id-21 div.sk-label input.sk-toggleable__control:checked~label.sk-toggleable__label {background-color: #d4ebff;}#sk-container-id-21 input.sk-hidden--visually {border: 0;clip: rect(1px 1px 1px 1px);clip: rect(1px, 1px, 1px, 1px);height: 1px;margin: -1px;overflow: hidden;padding: 0;position: absolute;width: 1px;}#sk-container-id-21 div.sk-estimator {font-family: monospace;background-color: #f0f8ff;border: 1px dotted black;border-radius: 0.25em;box-sizing: border-box;margin-bottom: 0.5em;}#sk-container-id-21 div.sk-estimator:hover {background-color: #d4ebff;}#sk-container-id-21 div.sk-parallel-item::after {content: \"\";width: 100%;border-bottom: 1px solid gray;flex-grow: 1;}#sk-container-id-21 div.sk-label:hover label.sk-toggleable__label {background-color: #d4ebff;}#sk-container-id-21 div.sk-serial::before {content: \"\";position: absolute;border-left: 1px solid gray;box-sizing: border-box;top: 0;bottom: 0;left: 50%;z-index: 0;}#sk-container-id-21 div.sk-serial {display: flex;flex-direction: column;align-items: center;background-color: white;padding-right: 0.2em;padding-left: 0.2em;position: relative;}#sk-container-id-21 div.sk-item {position: relative;z-index: 1;}#sk-container-id-21 div.sk-parallel {display: flex;align-items: stretch;justify-content: center;background-color: white;position: relative;}#sk-container-id-21 div.sk-item::before, #sk-container-id-21 div.sk-parallel-item::before {content: \"\";position: absolute;border-left: 1px solid gray;box-sizing: border-box;top: 0;bottom: 0;left: 50%;z-index: -1;}#sk-container-id-21 div.sk-parallel-item {display: flex;flex-direction: column;z-index: 1;position: relative;background-color: white;}#sk-container-id-21 div.sk-parallel-item:first-child::after {align-self: flex-end;width: 50%;}#sk-container-id-21 div.sk-parallel-item:last-child::after {align-self: flex-start;width: 50%;}#sk-container-id-21 div.sk-parallel-item:only-child::after {width: 0;}#sk-container-id-21 div.sk-dashed-wrapped {border: 1px dashed gray;margin: 0 0.4em 0.5em 0.4em;box-sizing: border-box;padding-bottom: 0.4em;background-color: white;}#sk-container-id-21 div.sk-label label {font-family: monospace;font-weight: bold;display: inline-block;line-height: 1.2em;}#sk-container-id-21 div.sk-label-container {text-align: center;}#sk-container-id-21 div.sk-container {/* jupyter's `normalize.less` sets `[hidden] { display: none; }` but bootstrap.min.css set `[hidden] { display: none !important; }` so we also need the `!important` here to be able to override the default hidden behavior on the sphinx rendered scikit-learn.org. See: https://github.com/scikit-learn/scikit-learn/issues/21755 */display: inline-block !important;position: relative;}#sk-container-id-21 div.sk-text-repr-fallback {display: none;}</style><div id=\"sk-container-id-21\" class=\"sk-top-container\"><div class=\"sk-text-repr-fallback\"><pre>XGBRegressor(alpha=10, base_score=0.5, booster=&#x27;gbtree&#x27;, callbacks=None,\n",
       "             colsample_bylevel=1, colsample_bynode=1, colsample_bytree=0.3,\n",
       "             early_stopping_rounds=None, enable_categorical=False,\n",
       "             eval_metric=None, gamma=0, gpu_id=-1, grow_policy=&#x27;depthwise&#x27;,\n",
       "             importance_type=None, interaction_constraints=&#x27;&#x27;,\n",
       "             learning_rate=0.1, max_bin=256, max_cat_to_onehot=4,\n",
       "             max_delta_step=0, max_depth=5, max_leaves=0, min_child_weight=1,\n",
       "             missing=nan, monotone_constraints=&#x27;()&#x27;, n_estimators=10, n_jobs=0,\n",
       "             num_parallel_tree=1, objective=&#x27;reg:linear&#x27;, predictor=&#x27;auto&#x27;,\n",
       "             random_state=0, ...)</pre><b>In a Jupyter environment, please rerun this cell to show the HTML representation or trust the notebook. <br />On GitHub, the HTML representation is unable to render, please try loading this page with nbviewer.org.</b></div><div class=\"sk-container\" hidden><div class=\"sk-item\"><div class=\"sk-estimator sk-toggleable\"><input class=\"sk-toggleable__control sk-hidden--visually\" id=\"sk-estimator-id-21\" type=\"checkbox\" checked><label for=\"sk-estimator-id-21\" class=\"sk-toggleable__label sk-toggleable__label-arrow\">XGBRegressor</label><div class=\"sk-toggleable__content\"><pre>XGBRegressor(alpha=10, base_score=0.5, booster=&#x27;gbtree&#x27;, callbacks=None,\n",
       "             colsample_bylevel=1, colsample_bynode=1, colsample_bytree=0.3,\n",
       "             early_stopping_rounds=None, enable_categorical=False,\n",
       "             eval_metric=None, gamma=0, gpu_id=-1, grow_policy=&#x27;depthwise&#x27;,\n",
       "             importance_type=None, interaction_constraints=&#x27;&#x27;,\n",
       "             learning_rate=0.1, max_bin=256, max_cat_to_onehot=4,\n",
       "             max_delta_step=0, max_depth=5, max_leaves=0, min_child_weight=1,\n",
       "             missing=nan, monotone_constraints=&#x27;()&#x27;, n_estimators=10, n_jobs=0,\n",
       "             num_parallel_tree=1, objective=&#x27;reg:linear&#x27;, predictor=&#x27;auto&#x27;,\n",
       "             random_state=0, ...)</pre></div></div></div></div></div>"
      ],
      "text/plain": [
       "XGBRegressor(alpha=10, base_score=0.5, booster='gbtree', callbacks=None,\n",
       "             colsample_bylevel=1, colsample_bynode=1, colsample_bytree=0.3,\n",
       "             early_stopping_rounds=None, enable_categorical=False,\n",
       "             eval_metric=None, gamma=0, gpu_id=-1, grow_policy='depthwise',\n",
       "             importance_type=None, interaction_constraints='',\n",
       "             learning_rate=0.1, max_bin=256, max_cat_to_onehot=4,\n",
       "             max_delta_step=0, max_depth=5, max_leaves=0, min_child_weight=1,\n",
       "             missing=nan, monotone_constraints='()', n_estimators=10, n_jobs=0,\n",
       "             num_parallel_tree=1, objective='reg:linear', predictor='auto',\n",
       "             random_state=0, ...)"
      ]
     },
     "execution_count": 217,
     "metadata": {},
     "output_type": "execute_result"
    }
   ],
   "source": [
    "# Creo l'algoritme classificador \n",
    "xgb_regressor.fit(X_train,y_train)"
   ]
  },
  {
   "cell_type": "code",
   "execution_count": 218,
   "id": "bad960e4",
   "metadata": {
    "ExecuteTime": {
     "end_time": "2022-08-05T13:12:49.249871Z",
     "start_time": "2022-08-05T13:12:49.236879Z"
    }
   },
   "outputs": [],
   "source": [
    "# Faig la predició\n",
    "prediccio = xgb_regressor.predict(X_test)"
   ]
  },
  {
   "cell_type": "code",
   "execution_count": 219,
   "id": "bd49fd2c",
   "metadata": {
    "ExecuteTime": {
     "end_time": "2022-08-05T13:12:49.948667Z",
     "start_time": "2022-08-05T13:12:49.928681Z"
    }
   },
   "outputs": [
    {
     "name": "stdout",
     "output_type": "stream",
     "text": [
      "RMSE: 0.657604\n"
     ]
    }
   ],
   "source": [
    "# Calculo l'rmse invocant la funció del modul metrics\n",
    "rmse = np.sqrt(mean_squared_error(y_test, prediccio))\n",
    "print(\"RMSE: %f\" % (rmse))"
   ]
  },
  {
   "cell_type": "code",
   "execution_count": 220,
   "id": "cb9e7ecc",
   "metadata": {
    "ExecuteTime": {
     "end_time": "2022-08-05T13:12:51.494721Z",
     "start_time": "2022-08-05T13:12:51.144938Z"
    }
   },
   "outputs": [],
   "source": [
    "# Ara faré una k-fold Cross Validation\n",
    "# Primer creo una espècie de diccionari de paràmetres per crear un model de validació creuada triple invocant el mètode cv()\n",
    "parametres = {\"objective\":\"reg:linear\",'colsample_bytree': 0.3,'learning_rate': 0.1,\n",
    "                'max_depth': 10, 'alpha': 10}\n",
    "\n",
    "cv_resultats = xgb.cv(dtrain=data_dmatrix, params=parametres, nfold=3,\n",
    "                    num_boost_round=50,early_stopping_rounds=10,metrics=\"rmse\", as_pandas=True, seed=123)"
   ]
  },
  {
   "cell_type": "code",
   "execution_count": 221,
   "id": "3861ac63",
   "metadata": {
    "ExecuteTime": {
     "end_time": "2022-08-05T13:12:53.413102Z",
     "start_time": "2022-08-05T13:12:53.393114Z"
    }
   },
   "outputs": [
    {
     "data": {
      "text/html": [
       "<div>\n",
       "<style scoped>\n",
       "    .dataframe tbody tr th:only-of-type {\n",
       "        vertical-align: middle;\n",
       "    }\n",
       "\n",
       "    .dataframe tbody tr th {\n",
       "        vertical-align: top;\n",
       "    }\n",
       "\n",
       "    .dataframe thead th {\n",
       "        text-align: right;\n",
       "    }\n",
       "</style>\n",
       "<table border=\"1\" class=\"dataframe\">\n",
       "  <thead>\n",
       "    <tr style=\"text-align: right;\">\n",
       "      <th></th>\n",
       "      <th>train-rmse-mean</th>\n",
       "      <th>train-rmse-std</th>\n",
       "      <th>test-rmse-mean</th>\n",
       "      <th>test-rmse-std</th>\n",
       "    </tr>\n",
       "  </thead>\n",
       "  <tbody>\n",
       "    <tr>\n",
       "      <th>0</th>\n",
       "      <td>1.502976</td>\n",
       "      <td>0.056357</td>\n",
       "      <td>1.500794</td>\n",
       "      <td>0.123377</td>\n",
       "    </tr>\n",
       "    <tr>\n",
       "      <th>1</th>\n",
       "      <td>1.386959</td>\n",
       "      <td>0.046195</td>\n",
       "      <td>1.388364</td>\n",
       "      <td>0.129427</td>\n",
       "    </tr>\n",
       "    <tr>\n",
       "      <th>2</th>\n",
       "      <td>1.283967</td>\n",
       "      <td>0.043695</td>\n",
       "      <td>1.288652</td>\n",
       "      <td>0.125935</td>\n",
       "    </tr>\n",
       "    <tr>\n",
       "      <th>3</th>\n",
       "      <td>1.189494</td>\n",
       "      <td>0.036620</td>\n",
       "      <td>1.197208</td>\n",
       "      <td>0.127406</td>\n",
       "    </tr>\n",
       "    <tr>\n",
       "      <th>4</th>\n",
       "      <td>1.107248</td>\n",
       "      <td>0.033224</td>\n",
       "      <td>1.114055</td>\n",
       "      <td>0.119623</td>\n",
       "    </tr>\n",
       "  </tbody>\n",
       "</table>\n",
       "</div>"
      ],
      "text/plain": [
       "   train-rmse-mean  train-rmse-std  test-rmse-mean  test-rmse-std\n",
       "0         1.502976        0.056357        1.500794       0.123377\n",
       "1         1.386959        0.046195        1.388364       0.129427\n",
       "2         1.283967        0.043695        1.288652       0.125935\n",
       "3         1.189494        0.036620        1.197208       0.127406\n",
       "4         1.107248        0.033224        1.114055       0.119623"
      ]
     },
     "execution_count": 221,
     "metadata": {},
     "output_type": "execute_result"
    }
   ],
   "source": [
    "# cv_resultats conté les mètriques rmse de train i test per a cada ronda d'impuls\n",
    "cv_resultats.head()"
   ]
  },
  {
   "cell_type": "code",
   "execution_count": 222,
   "id": "eb4ac4d4",
   "metadata": {
    "ExecuteTime": {
     "end_time": "2022-08-05T13:12:55.743640Z",
     "start_time": "2022-08-05T13:12:55.736646Z"
    }
   },
   "outputs": [
    {
     "name": "stdout",
     "output_type": "stream",
     "text": [
      "49    0.365565\n",
      "Name: test-rmse-mean, dtype: float64\n"
     ]
    }
   ],
   "source": [
    "# Extraiem la mètrica final\n",
    "print((cv_resultats[\"test-rmse-mean\"]).tail(1))\n",
    "\n",
    "#Veiem que l'rmse es redeuix considerablement des del càlcul anterior, i encara es podria reduir més aplicant tècniques de grid, bayesian , etc"
   ]
  },
  {
   "cell_type": "code",
   "execution_count": 223,
   "id": "fa93f07d",
   "metadata": {
    "ExecuteTime": {
     "end_time": "2022-08-05T13:12:58.715002Z",
     "start_time": "2022-08-05T13:12:58.680025Z"
    }
   },
   "outputs": [],
   "source": [
    "# L'XGBoost ens dona la possibilitat de fer un arbre sobre el que hem fet abans\n",
    "xgb_regressor =xgb.train(params=parametres, dtrain=data_dmatrix, num_boost_round=10) "
   ]
  },
  {
   "cell_type": "code",
   "execution_count": 224,
   "id": "b08c2d6a",
   "metadata": {
    "ExecuteTime": {
     "end_time": "2022-08-05T13:12:59.598487Z",
     "start_time": "2022-08-05T13:12:59.349629Z"
    }
   },
   "outputs": [
    {
     "data": {
      "image/png": "[encoded data removed]",
      "text/plain": [
       "<Figure size 720x720 with 1 Axes>"
      ]
     },
     "metadata": {
      "needs_background": "light"
     },
     "output_type": "display_data"
    }
   ],
   "source": [
    "# Creem l'arbre ama matplotlib\n",
    "xgb.plot_tree(xgb_regressor,num_trees=0)\n",
    "plt.rcParams[\"figure.figsize\"] =[10,10]\n",
    "plt.show()"
   ]
  },
  {
   "cell_type": "code",
   "execution_count": 225,
   "id": "c2b0ac3f",
   "metadata": {
    "ExecuteTime": {
     "end_time": "2022-08-05T13:13:00.606857Z",
     "start_time": "2022-08-05T13:13:00.376000Z"
    }
   },
   "outputs": [
    {
     "data": {
      "image/png": "[encoded data removed]",
      "text/plain": [
       "<Figure size 720x720 with 1 Axes>"
      ]
     },
     "metadata": {
      "needs_background": "light"
     },
     "output_type": "display_data"
    }
   ],
   "source": [
    "# Fem un gràfic que ens diu la imortància de cada factor en la classificació\n",
    "xgb.plot_importance(xgb_regressor)\n",
    "plt.rcParams['figure.figsize'] = [10, 10]\n",
    "plt.show()"
   ]
  },
  {
   "cell_type": "code",
   "execution_count": null,
   "id": "2bb90740",
   "metadata": {},
   "outputs": [],
   "source": []
  },
  {
   "cell_type": "markdown",
   "id": "8d86e3cc",
   "metadata": {
    "ExecuteTime": {
     "end_time": "2022-07-25T07:51:44.694972Z",
     "start_time": "2022-07-25T07:51:44.673984Z"
    }
   },
   "source": [
    "\n",
    "## Exercici 2\n",
    "Compara els models de classificació utilitzant la precisió (accuracy), una matriu de confiança i d’altres mètriques més avançades.\n",
    "\n",
    "\n",
    "\n"
   ]
  },
  {
   "cell_type": "markdown",
   "id": "83ee71ce",
   "metadata": {},
   "source": [
    "Tot això ho he fet a l'exercici 1 dins de cada classificació"
   ]
  },
  {
   "cell_type": "markdown",
   "id": "3aeeede8",
   "metadata": {
    "ExecuteTime": {
     "end_time": "2022-07-25T07:51:55.282435Z",
     "start_time": "2022-07-25T07:51:55.250456Z"
    }
   },
   "source": [
    "## Exercici 3\n",
    "Entrena’ls usant els diferents paràmetres que admeten per tal de millorar-ne la predicció.\n",
    "\n",
    "\n",
    "\n"
   ]
  },
  {
   "cell_type": "code",
   "execution_count": null,
   "id": "f572c51a",
   "metadata": {},
   "outputs": [],
   "source": []
  },
  {
   "cell_type": "markdown",
   "id": "21259e97",
   "metadata": {
    "ExecuteTime": {
     "end_time": "2022-07-25T07:52:02.332368Z",
     "start_time": "2022-07-25T07:52:02.315379Z"
    }
   },
   "source": [
    "## Exercici 4\n",
    "Compara el seu rendiment fent servir l’aproximació traint/test o cross-validation.\n",
    "\n"
   ]
  },
  {
   "cell_type": "markdown",
   "id": "c0e318d7",
   "metadata": {},
   "source": [
    "També està fet dins l'exercici 1"
   ]
  },
  {
   "cell_type": "markdown",
   "id": "b80f3d02",
   "metadata": {},
   "source": [
    "\n",
    "\n",
    "## Exercici 5\n",
    "Aplica algun procés d'enginyeria per millorar els resultats (normalització, estandardització, mostreig...)\n"
   ]
  },
  {
   "cell_type": "code",
   "execution_count": null,
   "id": "272bccd3",
   "metadata": {},
   "outputs": [],
   "source": []
  },
  {
   "cell_type": "code",
   "execution_count": null,
   "id": "7575a526",
   "metadata": {},
   "outputs": [],
   "source": []
  }
 ],
 "metadata": {
  "hide_input": false,
  "kernelspec": {
   "display_name": "Python 3 (ipykernel)",
   "language": "python",
   "name": "python3"
  },
  "language_info": {
   "codemirror_mode": {
    "name": "ipython",
    "version": 3
   },
   "file_extension": ".py",
   "mimetype": "text/x-python",
   "name": "python",
   "nbconvert_exporter": "python",
   "pygments_lexer": "ipython3",
   "version": "3.9.7"
  },
  "latex_envs": {
   "LaTeX_envs_menu_present": true,
   "autoclose": false,
   "autocomplete": true,
   "bibliofile": "biblio.bib",
   "cite_by": "apalike",
   "current_citInitial": 1,
   "eqLabelWithNumbers": true,
   "eqNumInitial": 1,
   "hotkeys": {
    "equation": "Ctrl-E",
    "itemize": "Ctrl-I"
   },
   "labels_anchors": false,
   "latex_user_defs": false,
   "report_style_numbering": false,
   "user_envs_cfg": false
  },
  "toc": {
   "base_numbering": 1,
   "nav_menu": {},
   "number_sections": true,
   "sideBar": true,
   "skip_h1_title": false,
   "title_cell": "Table of Contents",
   "title_sidebar": "Contents",
   "toc_cell": false,
   "toc_position": {},
   "toc_section_display": true,
   "toc_window_display": false
  },
  "varInspector": {
   "cols": {
    "lenName": 16,
    "lenType": 16,
    "lenVar": 40
   },
   "kernels_config": {
    "python": {
     "delete_cmd_postfix": "",
     "delete_cmd_prefix": "del ",
     "library": "var_list.py",
     "varRefreshCmd": "print(var_dic_list())"
    },
    "r": {
     "delete_cmd_postfix": ") ",
     "delete_cmd_prefix": "rm(",
     "library": "var_list.r",
     "varRefreshCmd": "cat(var_dic_list()) "
    }
   },
   "types_to_exclude": [
    "module",
    "function",
    "builtin_function_or_method",
    "instance",
    "_Feature"
   ],
   "window_display": false
  }
 },
 "nbformat": 4,
 "nbformat_minor": 5
}
